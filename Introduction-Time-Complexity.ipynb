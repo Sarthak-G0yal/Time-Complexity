{
 "cells": [
  {
   "cell_type": "markdown",
   "metadata": {},
   "source": [
    "# Time Complexity\n",
    "\n",
    "Time complexity is a measure of how much computer time (resources) an algorithm needs to run, as the size of the input (data) it processes increases.\n",
    "The Time Complexity of an algorithm/code is not equal to the actual time required to execute a particular code, but the number of times a statement executes.\n",
    "\n",
    "For Example: Let us consider a simple example of an algorithm used to find the sum of first n number using a FOR loop.\n",
    "As we can see the code is used to find to sum of first 1000, 100001, 10000001.The algorithm simply iterates over the range while adding the numbers.\n",
    "<br><br><br>\n",
    "\n",
    "<p style=\"font-size: 13px\"><i></b>Note</b></i>: Run the code blocks below before continuing.</p>"
   ]
  },
  {
   "cell_type": "code",
   "execution_count": 1,
   "metadata": {},
   "outputs": [
    {
     "name": "stdout",
     "output_type": "stream",
     "text": [
      "500500\n"
     ]
    }
   ],
   "source": [
    "sum = 0\n",
    "for i in range(1001):\n",
    "    sum += i\n",
    "print(sum)"
   ]
  },
  {
   "cell_type": "code",
   "execution_count": 2,
   "metadata": {},
   "outputs": [
    {
     "name": "stdout",
     "output_type": "stream",
     "text": [
      "5000050000\n"
     ]
    }
   ],
   "source": [
    "sum = 0\n",
    "for i in range(100001):\n",
    "    sum += i\n",
    "print(sum)    "
   ]
  },
  {
   "cell_type": "code",
   "execution_count": 3,
   "metadata": {},
   "outputs": [
    {
     "name": "stdout",
     "output_type": "stream",
     "text": [
      "50000005000000\n"
     ]
    }
   ],
   "source": [
    "sum = 0\n",
    "for i in range(10000001):\n",
    "    sum += i\n",
    "print(sum)    "
   ]
  },
  {
   "cell_type": "code",
   "execution_count": 4,
   "metadata": {},
   "outputs": [
    {
     "name": "stdout",
     "output_type": "stream",
     "text": [
      "200000010000000\n"
     ]
    }
   ],
   "source": [
    "sum = 0\n",
    "for i in range(20000001):\n",
    "    sum += i\n",
    "print(sum)    "
   ]
  },
  {
   "cell_type": "markdown",
   "metadata": {},
   "source": [
    "In the above block, you can see that for the first two cases execution time required is negligible but as the size of input increases the execution time also increases (1 second in this case).\n",
    "\n",
    "Futher we can also see that on multipling the input by 2 the execution time also doubles(approximately). \n",
    "\n",
    "So it is important to design algorithm that are time efficient.\n",
    "\n",
    "<br>\n",
    "In this case one such apporach can be using the formula,\n",
    "\n",
    "$$\\Sigma n = {{n(n+1)}\\over2}$$\n",
    "\n",
    "This can be seen in the code block below."
   ]
  },
  {
   "cell_type": "code",
   "execution_count": 24,
   "metadata": {},
   "outputs": [
    {
     "name": "stdout",
     "output_type": "stream",
     "text": [
      "50000005000000.0\n"
     ]
    }
   ],
   "source": [
    "n = 10000000\n",
    "sum = n*(n+1)/2\n",
    "print(sum)"
   ]
  },
  {
   "cell_type": "code",
   "execution_count": 25,
   "metadata": {},
   "outputs": [
    {
     "name": "stdout",
     "output_type": "stream",
     "text": [
      "200000010000000.0\n"
     ]
    }
   ],
   "source": [
    "n = 20000000\n",
    "sum = n*(n+1)/2\n",
    "print(sum)"
   ]
  },
  {
   "cell_type": "markdown",
   "metadata": {},
   "source": [
    "As you can see, after using this formula we can get the same result much faster which makes this a better algorithm.\n",
    "We can apply this knowledge in various waves to design better and efficient algorithm."
   ]
  }
 ],
 "metadata": {
  "kernelspec": {
   "display_name": "Python 3",
   "language": "python",
   "name": "python3"
  },
  "language_info": {
   "codemirror_mode": {
    "name": "ipython",
    "version": 3
   },
   "file_extension": ".py",
   "mimetype": "text/x-python",
   "name": "python",
   "nbconvert_exporter": "python",
   "pygments_lexer": "ipython3",
   "version": "3.12.2"
  }
 },
 "nbformat": 4,
 "nbformat_minor": 2
}
